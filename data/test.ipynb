{
 "cells": [
  {
   "cell_type": "code",
   "execution_count": 1,
   "metadata": {},
   "outputs": [],
   "source": [
    "import xarray\n",
    "import netCDF4 as nc  \n"
   ]
  },
  {
   "cell_type": "code",
   "execution_count": 2,
   "metadata": {},
   "outputs": [
    {
     "name": "stdout",
     "output_type": "stream",
     "text": [
      "<class 'netCDF4._netCDF4.Dataset'>\n",
      "root group (NETCDF4 data model, file format HDF5):\n",
      "    CDI: Climate Data Interface version 1.9.8 (https://mpimet.mpg.de/cdi)\n",
      "    Conventions: CF-1.6\n",
      "    history: Fri Oct 30 11:59:45 2020: cdo -L select,name=LANDMASK lis_input_gl_elev_watermask_MOD44W.nc FLDAS_GLOBAL_watermask_MOD44W.nc\n",
      "created on date: 2020-10-28T13:11:57.176\n",
      "    institution: NASA GSFC\n",
      "    missing_value: -9999.0\n",
      "    title: FLDAS 35-year (1982-2016) monthly climatology\n",
      "    MAP_PROJECTION: EQUIDISTANT CYLINDRICAL\n",
      "    SOUTH_WEST_CORNER_LAT: -59.95\n",
      "    SOUTH_WEST_CORNER_LON: -179.95\n",
      "    DX: 0.1\n",
      "    DY: 0.1\n",
      "    CDO: Climate Data Operators version 1.9.8 (https://mpimet.mpg.de/cdo)\n",
      "    dimensions(sizes): time(1), bnds(2), lon(3600), lat(1500)\n",
      "    variables(dimensions): float64 time(time), float64 climatology_bnds(time, bnds), float64 lon(lon), float64 lat(lat), float32 SoilMoi00_10cm_tavg(time, lat, lon), float32 SoilMoi10_40cm_tavg(time, lat, lon), float32 SoilMoi40_100cm_tavg(time, lat, lon), float32 SoilMoi100_200cm_tavg(time, lat, lon), float32 Evap_tavg(time, lat, lon), float32 Rainf_f_tavg(time, lat, lon), float32 Tair_f_tavg(time, lat, lon), float32 Qtotal_tavg(time, lat, lon)\n",
      "    groups: \n"
     ]
    }
   ],
   "source": [
    "ds = nc.Dataset(\"FLDAS_NOAH01_C_GL_MC.CLIM01.001.nc\")\n",
    "print(ds)"
   ]
  }
 ],
 "metadata": {
  "kernelspec": {
   "display_name": "Python 3",
   "language": "python",
   "name": "python3"
  },
  "language_info": {
   "codemirror_mode": {
    "name": "ipython",
    "version": 3
   },
   "file_extension": ".py",
   "mimetype": "text/x-python",
   "name": "python",
   "nbconvert_exporter": "python",
   "pygments_lexer": "ipython3",
   "version": "3.11.6"
  }
 },
 "nbformat": 4,
 "nbformat_minor": 2
}
