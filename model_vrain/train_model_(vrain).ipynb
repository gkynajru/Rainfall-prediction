{
 "cells": [
  {
   "cell_type": "code",
   "execution_count": 1,
   "id": "18c3311e",
   "metadata": {
    "_cell_guid": "b1076dfc-b9ad-4769-8c92-a6c4dae69d19",
    "_uuid": "8f2839f25d086af736a60e9eeb907d3b93b6e0e5",
    "execution": {
     "iopub.execute_input": "2024-12-25T11:23:19.968954Z",
     "iopub.status.busy": "2024-12-25T11:23:19.968537Z",
     "iopub.status.idle": "2024-12-25T11:23:28.695590Z",
     "shell.execute_reply": "2024-12-25T11:23:28.694827Z"
    },
    "papermill": {
     "duration": 8.734085,
     "end_time": "2024-12-25T11:23:28.697143",
     "exception": false,
     "start_time": "2024-12-25T11:23:19.963058",
     "status": "completed"
    },
    "tags": []
   },
   "outputs": [],
   "source": [
    "import numpy as np\n",
    "import pandas as pd\n",
    "import tensorflow as tf\n",
    "from tensorflow.keras.models import Sequential, load_model\n",
    "from tensorflow.keras.layers import LSTM, Dense, Dropout, BatchNormalization, Bidirectional\n",
    "from tensorflow.keras.callbacks import EarlyStopping, ModelCheckpoint, ReduceLROnPlateau\n",
    "from sklearn.preprocessing import MinMaxScaler, LabelEncoder\n",
    "from sklearn.metrics import r2_score, mean_squared_error, mean_absolute_error\n",
    "import matplotlib.pyplot as plt\n",
    "import seaborn as sns\n",
    "from datetime import datetime, timedelta\n",
    "import os\n",
    "import gc"
   ]
  },
  {
   "cell_type": "code",
   "execution_count": 2,
   "id": "221d6a9b",
   "metadata": {
    "execution": {
     "iopub.execute_input": "2024-12-25T11:23:28.703683Z",
     "iopub.status.busy": "2024-12-25T11:23:28.703248Z",
     "iopub.status.idle": "2024-12-25T11:23:28.707275Z",
     "shell.execute_reply": "2024-12-25T11:23:28.706539Z"
    },
    "papermill": {
     "duration": 0.008323,
     "end_time": "2024-12-25T11:23:28.708510",
     "exception": false,
     "start_time": "2024-12-25T11:23:28.700187",
     "status": "completed"
    },
    "tags": []
   },
   "outputs": [],
   "source": [
    "CONFIG = {\n",
    "    'input_steps': 24,\n",
    "    'output_steps': 24,\n",
    "    'stride': 1,\n",
    "    'features': [\n",
    "        \"temperature_2m\", \"relative_humidity_2m\", \"dew_point_2m\",\n",
    "        \"apparent_temperature\", \"weather_code\", \"pressure_msl\",\n",
    "        \"surface_pressure\", \"cloud_cover\", \"cloud_cover_low\",\n",
    "        \"cloud_cover_mid\", \"cloud_cover_high\", \"wind_speed_10m\",\n",
    "        \"wind_speed_100m\", \"wind_direction_10m\", \"wind_direction_100m\",\n",
    "        \"wind_gusts_10m\"\n",
    "    ],\n",
    "    'target': 'vrain',\n",
    "    'batch_size': 32,\n",
    "    'epochs': 20\n",
    "}"
   ]
  },
  {
   "cell_type": "code",
   "execution_count": 3,
   "id": "5ecb474a",
   "metadata": {
    "execution": {
     "iopub.execute_input": "2024-12-25T11:23:28.714131Z",
     "iopub.status.busy": "2024-12-25T11:23:28.713888Z",
     "iopub.status.idle": "2024-12-25T11:23:28.728252Z",
     "shell.execute_reply": "2024-12-25T11:23:28.727561Z"
    },
    "papermill": {
     "duration": 0.018701,
     "end_time": "2024-12-25T11:23:28.729644",
     "exception": false,
     "start_time": "2024-12-25T11:23:28.710943",
     "status": "completed"
    },
    "tags": []
   },
   "outputs": [],
   "source": [
    "class DataPreprocessor:\n",
    "    def __init__(self, config):\n",
    "        self.config = config\n",
    "        self.scalers = {}\n",
    "        self.label_encoder = LabelEncoder()\n",
    "\n",
    "    def transform_rainfall(self, data):\n",
    "        \"\"\"Log transform rainfall data\"\"\"\n",
    "        return np.log1p(data)\n",
    "\n",
    "    def inverse_transform_rainfall(self, data):\n",
    "        \"\"\"Inverse transform log-transformed rainfall data\"\"\"\n",
    "        return np.expm1(data)\n",
    "\n",
    "    def load_and_prepare_data(self, filepath):\n",
    "        \"\"\"Load data from CSV and prepare initial dataframe\"\"\"\n",
    "        print(\"Loading data...\")\n",
    "        df = pd.read_csv(filepath)\n",
    "        df['time'] = pd.to_datetime(df['time'])\n",
    "        df['location_encoded'] = self.label_encoder.fit_transform(df['location'])\n",
    "        print(\"Label and number: \", list(zip(self.label_encoder.classes_, range(len(self.label_encoder.classes_)))))\n",
    "        return df\n",
    "\n",
    "    def scale_features(self, location_data, location, is_training=True):\n",
    "        \"\"\"Scale features for a specific location\"\"\"\n",
    "        if is_training:\n",
    "            self.scalers[location] = {\n",
    "                feature: MinMaxScaler() for feature in self.config['features']\n",
    "            }\n",
    "            # Fit and transform\n",
    "            for feature in self.config['features']:\n",
    "                location_data[feature] = self.scalers[location][feature].fit_transform(\n",
    "                    location_data[feature].values.reshape(-1, 1)\n",
    "                )\n",
    "        else:\n",
    "            # Transform only\n",
    "            for feature in self.config['features']:\n",
    "                location_data[feature] = self.scalers[location][feature].transform(\n",
    "                    location_data[feature].values.reshape(-1, 1)\n",
    "                )\n",
    "\n",
    "        return location_data\n",
    "\n",
    "    def create_sequences(self, data, location_encoded):\n",
    "        \"\"\"Create sequences for a single location\"\"\"\n",
    "        input_steps = self.config['input_steps']\n",
    "        output_steps = self.config['output_steps']\n",
    "        feature_count = len(self.config['features'])\n",
    "\n",
    "        X, y = [], []\n",
    "\n",
    "        for i in range(0, len(data) - input_steps - output_steps + 1, self.config['stride']):\n",
    "            # Input sequence\n",
    "            input_seq = np.column_stack([\n",
    "                data[i:i + input_steps, :feature_count],\n",
    "                np.full(input_steps, location_encoded)\n",
    "            ])\n",
    "\n",
    "            # Target sequence\n",
    "            target_seq = data[\n",
    "                i + input_steps:i + input_steps + output_steps,\n",
    "                -1\n",
    "            ]\n",
    "\n",
    "            X.append(input_seq)\n",
    "            y.append(target_seq)\n",
    "\n",
    "            # Free memory periodically\n",
    "            if len(X) % 1000 == 0:\n",
    "                gc.collect()\n",
    "\n",
    "        return np.array(X), np.array(y)\n",
    "\n",
    "    def process_location(self, df, location, is_training=True):\n",
    "        \"\"\"Process data for a single location\"\"\"\n",
    "        print(f\"Processing location: {location}\")\n",
    "\n",
    "        # Get data for this location\n",
    "        location_data = df[df['location'] == location].copy()\n",
    "        location_data = location_data.sort_values('time')\n",
    "\n",
    "        # Scale features\n",
    "        location_data = self.scale_features(location_data, location, is_training)\n",
    "\n",
    "        # Transform rainfall\n",
    "        location_data['rain_transformed'] = self.transform_rainfall(\n",
    "            location_data[self.config['target']].values\n",
    "        )\n",
    "\n",
    "        # Prepare data array\n",
    "        data_array = location_data[\n",
    "            self.config['features'] + ['rain_transformed']\n",
    "        ].values\n",
    "\n",
    "        # Create sequences\n",
    "        X, y = self.create_sequences(\n",
    "            data_array,\n",
    "            location_data['location_encoded'].iloc[0]\n",
    "        )\n",
    "\n",
    "        return X, y, location_data.index\n",
    "\n",
    "    def split_data(self, X, y, train_ratio=0.9):\n",
    "        \"\"\"Split data into training and testing sets\"\"\"\n",
    "        split_idx = int(len(X) * train_ratio)\n",
    "\n",
    "        X_train = X[:split_idx]\n",
    "        X_test = X[split_idx:]\n",
    "        y_train = y[:split_idx]\n",
    "        y_test = y[split_idx:]\n",
    "\n",
    "        return X_train, X_test, y_train, y_test\n",
    "\n",
    "    def process_all_locations(self, df, train_ratio=0.9):\n",
    "        \"\"\"Process all locations and combine data\"\"\"\n",
    "        X_train_all = []\n",
    "        X_test_all = []\n",
    "        y_train_all = []\n",
    "        y_test_all = []\n",
    "\n",
    "        locations = df['location'].unique()\n",
    "\n",
    "        for location in locations:\n",
    "            # Process location data\n",
    "            X, y, _ = self.process_location(df, location)\n",
    "\n",
    "            # Split data\n",
    "            X_train, X_test, y_train, y_test = self.split_data(X, y, train_ratio)\n",
    "\n",
    "            # Append to lists\n",
    "            X_train_all.append(X_train)\n",
    "            X_test_all.append(X_test)\n",
    "            y_train_all.append(y_train)\n",
    "            y_test_all.append(y_test)\n",
    "\n",
    "            # Clear memory\n",
    "            gc.collect()\n",
    "\n",
    "        # Combine all data\n",
    "        X_train = np.vstack(X_train_all)\n",
    "        X_test = np.vstack(X_test_all)\n",
    "        y_train = np.vstack(y_train_all)\n",
    "        y_test = np.vstack(y_test_all)\n",
    "\n",
    "        return X_train, X_test, y_train, y_test"
   ]
  },
  {
   "cell_type": "code",
   "execution_count": 4,
   "id": "b2fa2454",
   "metadata": {
    "execution": {
     "iopub.execute_input": "2024-12-25T11:23:28.735668Z",
     "iopub.status.busy": "2024-12-25T11:23:28.735405Z",
     "iopub.status.idle": "2024-12-25T11:23:28.747333Z",
     "shell.execute_reply": "2024-12-25T11:23:28.746529Z"
    },
    "papermill": {
     "duration": 0.016333,
     "end_time": "2024-12-25T11:23:28.748754",
     "exception": false,
     "start_time": "2024-12-25T11:23:28.732421",
     "status": "completed"
    },
    "tags": []
   },
   "outputs": [],
   "source": [
    "class RainfallPredictor:\n",
    "    def __init__(self, config, preprocessor):\n",
    "        self.config = config\n",
    "        self.preprocessor = preprocessor\n",
    "        self.model = None\n",
    "\n",
    "    def build_model(self):\n",
    "        \"\"\"Create LSTM model architecture\"\"\"\n",
    "        input_shape = (self.config['input_steps'], len(self.config['features']) + 1)\n",
    "\n",
    "        model = Sequential([\n",
    "            LSTM(128, return_sequences=True, input_shape=input_shape),\n",
    "            BatchNormalization(),\n",
    "            Dropout(0.2),\n",
    "\n",
    "            LSTM(64, return_sequences=False),\n",
    "            BatchNormalization(),\n",
    "            Dropout(0.2),\n",
    "\n",
    "            Dense(64, activation='relu'),\n",
    "            BatchNormalization(),\n",
    "\n",
    "            Dense(32, activation='relu'),\n",
    "            BatchNormalization(),\n",
    "\n",
    "            Dense(self.config['output_steps'], activation='relu')\n",
    "        ])\n",
    "\n",
    "        model.compile(\n",
    "            optimizer='adam',\n",
    "            loss='mse',\n",
    "            metrics=['mae']\n",
    "        )\n",
    "\n",
    "        self.model = model\n",
    "        return model\n",
    "\n",
    "    def train(self, X_train, y_train, X_val=None, y_val=None, **kwargs):\n",
    "        \"\"\"Train the model with callbacks\"\"\"\n",
    "        if X_val is None:\n",
    "            # Use validation split if validation data not provided\n",
    "            validation_split = kwargs.get('validation_split', 0.1)\n",
    "            validation_data = None\n",
    "        else:\n",
    "            validation_split = 0.0\n",
    "            validation_data = (X_val, y_val)\n",
    "\n",
    "        callbacks = [\n",
    "            EarlyStopping(\n",
    "                monitor='val_loss',\n",
    "                patience=kwargs.get('patience', 5),\n",
    "                restore_best_weights=True\n",
    "            ),\n",
    "            ReduceLROnPlateau(\n",
    "                factor = 0.5,\n",
    "                patience = 3,\n",
    "                min_lr = 1e-6\n",
    "            ),\n",
    "            ModelCheckpoint(\n",
    "                '/content/drive/My Drive/Project_2/Weather_prediction/9_location_17_features_v2/checkpoint/best_model.keras',\n",
    "                save_best_only=True,\n",
    "                monitor='val_loss'\n",
    "            )\n",
    "        ]\n",
    "\n",
    "        history = self.model.fit(\n",
    "            X_train, y_train,\n",
    "            epochs = self.config['epochs'],\n",
    "            batch_size = self.config['batch_size'],\n",
    "            validation_split = validation_split,\n",
    "            validation_data = validation_data,\n",
    "            callbacks = callbacks,\n",
    "            verbose = 1\n",
    "        )\n",
    "\n",
    "        return history\n",
    "\n",
    "    def predict(self, X):\n",
    "        \"\"\"Make predictions\"\"\"\n",
    "        predictions = self.model.predict(X)\n",
    "        return self.preprocessor.inverse_transform_rainfall(predictions)\n",
    "\n",
    "    def evaluate(self, X_test, y_test):\n",
    "        \"\"\"Evaluate model performance\"\"\"\n",
    "        # Get predictions\n",
    "        predictions = self.predict(X_test)\n",
    "        actual = self.preprocessor.inverse_transform_rainfall(y_test)\n",
    "\n",
    "        # Calculate metrics\n",
    "        metrics = {\n",
    "            'mse': mean_squared_error(actual, predictions),\n",
    "            'rmse': np.sqrt(mean_squared_error(actual, predictions)),\n",
    "            'mae': mean_absolute_error(actual, predictions),\n",
    "            'r2': r2_score(actual, predictions)\n",
    "        }\n",
    "\n",
    "        return metrics, predictions, actual\n",
    "\n",
    "    def plot_history(self, history):\n",
    "        \"\"\"Plot training history\"\"\"\n",
    "        plt.figure(figsize=(12, 4))\n",
    "\n",
    "        # Plot loss\n",
    "        plt.subplot(1, 2, 1)\n",
    "        plt.plot(history.history['loss'], label='Training Loss')\n",
    "        plt.plot(history.history['val_loss'], label='Validation Loss')\n",
    "        plt.title('Model Loss')\n",
    "        plt.xlabel('Epoch')\n",
    "        plt.ylabel('Loss')\n",
    "        plt.legend()\n",
    "\n",
    "        # Plot MAE\n",
    "        plt.subplot(1, 2, 2)\n",
    "        plt.plot(history.history['mae'], label='Training MAE')\n",
    "        plt.plot(history.history['val_mae'], label='Validation MAE')\n",
    "        plt.title('Model MAE')\n",
    "        plt.xlabel('Epoch')\n",
    "        plt.ylabel('MAE')\n",
    "        plt.legend()\n",
    "\n",
    "        plt.tight_layout()\n",
    "        plt.show()\n",
    "\n",
    "    def plot_predictions(self, predictions, actual, num_samples=5):\n",
    "        \"\"\"Plot sample predictions vs actual values\"\"\"\n",
    "        plt.figure(figsize=(15, 6))\n",
    "\n",
    "        for i in range(num_samples):\n",
    "            plt.subplot(1, num_samples, i+1)\n",
    "            plt.plot(actual[i], label='Actual', marker='o')\n",
    "            plt.plot(predictions[i], label='Predicted', marker='o')\n",
    "            plt.title(f'Sample {i+1}')\n",
    "            plt.xlabel('Time Step')\n",
    "            plt.ylabel('Rainfall')\n",
    "            plt.legend()\n",
    "\n",
    "        plt.tight_layout()\n",
    "        plt.show()"
   ]
  },
  {
   "cell_type": "code",
   "execution_count": 5,
   "id": "7fa1a241",
   "metadata": {
    "execution": {
     "iopub.execute_input": "2024-12-25T11:23:28.754682Z",
     "iopub.status.busy": "2024-12-25T11:23:28.754430Z",
     "iopub.status.idle": "2024-12-25T11:23:29.835122Z",
     "shell.execute_reply": "2024-12-25T11:23:29.834062Z"
    },
    "papermill": {
     "duration": 1.085245,
     "end_time": "2024-12-25T11:23:29.836642",
     "exception": false,
     "start_time": "2024-12-25T11:23:28.751397",
     "status": "completed"
    },
    "tags": []
   },
   "outputs": [
    {
     "name": "stdout",
     "output_type": "stream",
     "text": [
      "Loading data...\n",
      "Label and number:  [('CC Thuy Loi', 0), ('Cua Tung', 1), ('Huong Linh', 2), ('Ky Thuong', 3), ('My Loc', 4), ('Trieu Ai', 5), ('Trooc Trau', 6), ('Truong Xuan', 7), ('Van Trach', 8)]\n",
      "Data shape: (300119, 20)\n",
      "\n",
      "Features: ['temperature_2m', 'relative_humidity_2m', 'dew_point_2m', 'apparent_temperature', 'weather_code', 'pressure_msl', 'surface_pressure', 'cloud_cover', 'cloud_cover_low', 'cloud_cover_mid', 'cloud_cover_high', 'wind_speed_10m', 'wind_speed_100m', 'wind_direction_10m', 'wind_direction_100m', 'wind_gusts_10m']\n",
      "\n",
      "Sample of data:\n",
      "                 time  vrain     location  temperature_2m  \\\n",
      "0 2021-01-01 00:00:00    0.0  CC Thuy Loi            11.7   \n",
      "1 2021-01-01 01:00:00    0.0  CC Thuy Loi            11.8   \n",
      "2 2021-01-01 02:00:00    0.0  CC Thuy Loi            12.2   \n",
      "3 2021-01-01 03:00:00    0.0  CC Thuy Loi            13.2   \n",
      "4 2021-01-01 04:00:00    0.0  CC Thuy Loi            13.4   \n",
      "\n",
      "   relative_humidity_2m  dew_point_2m  apparent_temperature  weather_code  \\\n",
      "0                  87.0           9.6                   9.3            51   \n",
      "1                  86.0           9.6                   9.2            55   \n",
      "2                  86.0          10.0                   9.9            53   \n",
      "3                  87.0          11.0                  11.3            53   \n",
      "4                  87.0          11.2                  11.7            53   \n",
      "\n",
      "   pressure_msl  surface_pressure  cloud_cover  cloud_cover_low  \\\n",
      "0        1025.6            1025.4          100              100   \n",
      "1        1026.4            1026.2          100              100   \n",
      "2        1027.1            1026.9          100              100   \n",
      "3        1027.0            1026.8          100              100   \n",
      "4        1026.6            1026.4          100              100   \n",
      "\n",
      "   cloud_cover_mid  cloud_cover_high  wind_speed_10m  wind_speed_100m  \\\n",
      "0              100                 0            15.9             26.6   \n",
      "1              100                 0            17.3             29.5   \n",
      "2              100                 0            15.9             27.1   \n",
      "3              100                 0            15.2             23.5   \n",
      "4              100                 0            14.4             21.4   \n",
      "\n",
      "   wind_direction_10m  wind_direction_100m  wind_gusts_10m  location_encoded  \n",
      "0               295.0                303.0            33.8                 0  \n",
      "1               293.0                300.0            33.5                 0  \n",
      "2               295.0                303.0            33.5                 0  \n",
      "3               301.0                306.0            30.6                 0  \n",
      "4               302.0                306.0            29.5                 0  \n"
     ]
    }
   ],
   "source": [
    "# Initialize preprocessor and prepare data\n",
    "preprocessor = DataPreprocessor(CONFIG)\n",
    "df = preprocessor.load_and_prepare_data('/kaggle/input/vrain-meteo-data/merged_vrain_meteo.csv')\n",
    "print(\"Data shape:\", df.shape)\n",
    "print(\"\\nFeatures:\", CONFIG['features'])\n",
    "print(\"\\nSample of data:\")\n",
    "print(df.head())"
   ]
  },
  {
   "cell_type": "code",
   "execution_count": 6,
   "id": "c43904e0",
   "metadata": {
    "execution": {
     "iopub.execute_input": "2024-12-25T11:23:29.843511Z",
     "iopub.status.busy": "2024-12-25T11:23:29.843243Z",
     "iopub.status.idle": "2024-12-25T11:23:36.417021Z",
     "shell.execute_reply": "2024-12-25T11:23:36.416059Z"
    },
    "papermill": {
     "duration": 6.57865,
     "end_time": "2024-12-25T11:23:36.418488",
     "exception": false,
     "start_time": "2024-12-25T11:23:29.839838",
     "status": "completed"
    },
    "tags": []
   },
   "outputs": [
    {
     "name": "stdout",
     "output_type": "stream",
     "text": [
      "Processing location: CC Thuy Loi\n",
      "Sequences for CC Thuy Loi:\n",
      "X shape: (34273, 24, 17)\n",
      "y shape: (34273, 24)\n"
     ]
    }
   ],
   "source": [
    "# Process single location\n",
    "location = df['location'].unique()[0]\n",
    "X, y, time_index = preprocessor.process_location(df, location)\n",
    "print(f\"Sequences for {location}:\")\n",
    "print(f\"X shape: {X.shape}\")\n",
    "print(f\"y shape: {y.shape}\")"
   ]
  },
  {
   "cell_type": "code",
   "execution_count": 7,
   "id": "aef4daec",
   "metadata": {
    "execution": {
     "iopub.execute_input": "2024-12-25T11:23:36.425305Z",
     "iopub.status.busy": "2024-12-25T11:23:36.425023Z",
     "iopub.status.idle": "2024-12-25T11:24:35.877478Z",
     "shell.execute_reply": "2024-12-25T11:24:35.876520Z"
    },
    "papermill": {
     "duration": 59.457269,
     "end_time": "2024-12-25T11:24:35.878867",
     "exception": false,
     "start_time": "2024-12-25T11:23:36.421598",
     "status": "completed"
    },
    "tags": []
   },
   "outputs": [
    {
     "name": "stdout",
     "output_type": "stream",
     "text": [
      "Processing location: CC Thuy Loi\n",
      "Processing location: Ky Thuong\n",
      "Processing location: My Loc\n",
      "Processing location: Trooc Trau\n",
      "Processing location: Truong Xuan\n",
      "Processing location: Van Trach\n",
      "Processing location: Cua Tung\n",
      "Processing location: Huong Linh\n",
      "Processing location: Trieu Ai\n",
      "Final shapes:\n",
      "X_train: (269720, 24, 17)\n",
      "X_test: (29976, 24, 17)\n",
      "y_train: (269720, 24)\n",
      "y_test: (29976, 24)\n"
     ]
    }
   ],
   "source": [
    "# Process all locations\n",
    "X_train, X_test, y_train, y_test = preprocessor.process_all_locations(df)\n",
    "print(\"Final shapes:\")\n",
    "print(f\"X_train: {X_train.shape}\")\n",
    "print(f\"X_test: {X_test.shape}\")\n",
    "print(f\"y_train: {y_train.shape}\")\n",
    "print(f\"y_test: {y_test.shape}\")"
   ]
  },
  {
   "cell_type": "code",
   "execution_count": 8,
   "id": "4fdc2c96",
   "metadata": {
    "execution": {
     "iopub.execute_input": "2024-12-25T11:24:35.886657Z",
     "iopub.status.busy": "2024-12-25T11:24:35.886388Z",
     "iopub.status.idle": "2024-12-25T11:24:37.071304Z",
     "shell.execute_reply": "2024-12-25T11:24:37.070453Z"
    },
    "papermill": {
     "duration": 1.190075,
     "end_time": "2024-12-25T11:24:37.072549",
     "exception": false,
     "start_time": "2024-12-25T11:24:35.882474",
     "status": "completed"
    },
    "tags": []
   },
   "outputs": [
    {
     "name": "stderr",
     "output_type": "stream",
     "text": [
      "/usr/local/lib/python3.10/dist-packages/keras/src/layers/rnn/rnn.py:204: UserWarning: Do not pass an `input_shape`/`input_dim` argument to a layer. When using Sequential models, prefer using an `Input(shape)` object as the first layer in the model instead.\n",
      "  super().__init__(**kwargs)\n"
     ]
    },
    {
     "data": {
      "text/html": [
       "<pre style=\"white-space:pre;overflow-x:auto;line-height:normal;font-family:Menlo,'DejaVu Sans Mono',consolas,'Courier New',monospace\"><span style=\"font-weight: bold\">Model: \"sequential\"</span>\n",
       "</pre>\n"
      ],
      "text/plain": [
       "\u001b[1mModel: \"sequential\"\u001b[0m\n"
      ]
     },
     "metadata": {},
     "output_type": "display_data"
    },
    {
     "data": {
      "text/html": [
       "<pre style=\"white-space:pre;overflow-x:auto;line-height:normal;font-family:Menlo,'DejaVu Sans Mono',consolas,'Courier New',monospace\">┏━━━━━━━━━━━━━━━━━━━━━━━━━━━━━━━━━━━━━━┳━━━━━━━━━━━━━━━━━━━━━━━━━━━━━┳━━━━━━━━━━━━━━━━━┓\n",
       "┃<span style=\"font-weight: bold\"> Layer (type)                         </span>┃<span style=\"font-weight: bold\"> Output Shape                </span>┃<span style=\"font-weight: bold\">         Param # </span>┃\n",
       "┡━━━━━━━━━━━━━━━━━━━━━━━━━━━━━━━━━━━━━━╇━━━━━━━━━━━━━━━━━━━━━━━━━━━━━╇━━━━━━━━━━━━━━━━━┩\n",
       "│ lstm (<span style=\"color: #0087ff; text-decoration-color: #0087ff\">LSTM</span>)                          │ (<span style=\"color: #00d7ff; text-decoration-color: #00d7ff\">None</span>, <span style=\"color: #00af00; text-decoration-color: #00af00\">24</span>, <span style=\"color: #00af00; text-decoration-color: #00af00\">128</span>)             │          <span style=\"color: #00af00; text-decoration-color: #00af00\">74,752</span> │\n",
       "├──────────────────────────────────────┼─────────────────────────────┼─────────────────┤\n",
       "│ batch_normalization                  │ (<span style=\"color: #00d7ff; text-decoration-color: #00d7ff\">None</span>, <span style=\"color: #00af00; text-decoration-color: #00af00\">24</span>, <span style=\"color: #00af00; text-decoration-color: #00af00\">128</span>)             │             <span style=\"color: #00af00; text-decoration-color: #00af00\">512</span> │\n",
       "│ (<span style=\"color: #0087ff; text-decoration-color: #0087ff\">BatchNormalization</span>)                 │                             │                 │\n",
       "├──────────────────────────────────────┼─────────────────────────────┼─────────────────┤\n",
       "│ dropout (<span style=\"color: #0087ff; text-decoration-color: #0087ff\">Dropout</span>)                    │ (<span style=\"color: #00d7ff; text-decoration-color: #00d7ff\">None</span>, <span style=\"color: #00af00; text-decoration-color: #00af00\">24</span>, <span style=\"color: #00af00; text-decoration-color: #00af00\">128</span>)             │               <span style=\"color: #00af00; text-decoration-color: #00af00\">0</span> │\n",
       "├──────────────────────────────────────┼─────────────────────────────┼─────────────────┤\n",
       "│ lstm_1 (<span style=\"color: #0087ff; text-decoration-color: #0087ff\">LSTM</span>)                        │ (<span style=\"color: #00d7ff; text-decoration-color: #00d7ff\">None</span>, <span style=\"color: #00af00; text-decoration-color: #00af00\">64</span>)                  │          <span style=\"color: #00af00; text-decoration-color: #00af00\">49,408</span> │\n",
       "├──────────────────────────────────────┼─────────────────────────────┼─────────────────┤\n",
       "│ batch_normalization_1                │ (<span style=\"color: #00d7ff; text-decoration-color: #00d7ff\">None</span>, <span style=\"color: #00af00; text-decoration-color: #00af00\">64</span>)                  │             <span style=\"color: #00af00; text-decoration-color: #00af00\">256</span> │\n",
       "│ (<span style=\"color: #0087ff; text-decoration-color: #0087ff\">BatchNormalization</span>)                 │                             │                 │\n",
       "├──────────────────────────────────────┼─────────────────────────────┼─────────────────┤\n",
       "│ dropout_1 (<span style=\"color: #0087ff; text-decoration-color: #0087ff\">Dropout</span>)                  │ (<span style=\"color: #00d7ff; text-decoration-color: #00d7ff\">None</span>, <span style=\"color: #00af00; text-decoration-color: #00af00\">64</span>)                  │               <span style=\"color: #00af00; text-decoration-color: #00af00\">0</span> │\n",
       "├──────────────────────────────────────┼─────────────────────────────┼─────────────────┤\n",
       "│ dense (<span style=\"color: #0087ff; text-decoration-color: #0087ff\">Dense</span>)                        │ (<span style=\"color: #00d7ff; text-decoration-color: #00d7ff\">None</span>, <span style=\"color: #00af00; text-decoration-color: #00af00\">64</span>)                  │           <span style=\"color: #00af00; text-decoration-color: #00af00\">4,160</span> │\n",
       "├──────────────────────────────────────┼─────────────────────────────┼─────────────────┤\n",
       "│ batch_normalization_2                │ (<span style=\"color: #00d7ff; text-decoration-color: #00d7ff\">None</span>, <span style=\"color: #00af00; text-decoration-color: #00af00\">64</span>)                  │             <span style=\"color: #00af00; text-decoration-color: #00af00\">256</span> │\n",
       "│ (<span style=\"color: #0087ff; text-decoration-color: #0087ff\">BatchNormalization</span>)                 │                             │                 │\n",
       "├──────────────────────────────────────┼─────────────────────────────┼─────────────────┤\n",
       "│ dense_1 (<span style=\"color: #0087ff; text-decoration-color: #0087ff\">Dense</span>)                      │ (<span style=\"color: #00d7ff; text-decoration-color: #00d7ff\">None</span>, <span style=\"color: #00af00; text-decoration-color: #00af00\">32</span>)                  │           <span style=\"color: #00af00; text-decoration-color: #00af00\">2,080</span> │\n",
       "├──────────────────────────────────────┼─────────────────────────────┼─────────────────┤\n",
       "│ batch_normalization_3                │ (<span style=\"color: #00d7ff; text-decoration-color: #00d7ff\">None</span>, <span style=\"color: #00af00; text-decoration-color: #00af00\">32</span>)                  │             <span style=\"color: #00af00; text-decoration-color: #00af00\">128</span> │\n",
       "│ (<span style=\"color: #0087ff; text-decoration-color: #0087ff\">BatchNormalization</span>)                 │                             │                 │\n",
       "├──────────────────────────────────────┼─────────────────────────────┼─────────────────┤\n",
       "│ dense_2 (<span style=\"color: #0087ff; text-decoration-color: #0087ff\">Dense</span>)                      │ (<span style=\"color: #00d7ff; text-decoration-color: #00d7ff\">None</span>, <span style=\"color: #00af00; text-decoration-color: #00af00\">24</span>)                  │             <span style=\"color: #00af00; text-decoration-color: #00af00\">792</span> │\n",
       "└──────────────────────────────────────┴─────────────────────────────┴─────────────────┘\n",
       "</pre>\n"
      ],
      "text/plain": [
       "┏━━━━━━━━━━━━━━━━━━━━━━━━━━━━━━━━━━━━━━┳━━━━━━━━━━━━━━━━━━━━━━━━━━━━━┳━━━━━━━━━━━━━━━━━┓\n",
       "┃\u001b[1m \u001b[0m\u001b[1mLayer (type)                        \u001b[0m\u001b[1m \u001b[0m┃\u001b[1m \u001b[0m\u001b[1mOutput Shape               \u001b[0m\u001b[1m \u001b[0m┃\u001b[1m \u001b[0m\u001b[1m        Param #\u001b[0m\u001b[1m \u001b[0m┃\n",
       "┡━━━━━━━━━━━━━━━━━━━━━━━━━━━━━━━━━━━━━━╇━━━━━━━━━━━━━━━━━━━━━━━━━━━━━╇━━━━━━━━━━━━━━━━━┩\n",
       "│ lstm (\u001b[38;5;33mLSTM\u001b[0m)                          │ (\u001b[38;5;45mNone\u001b[0m, \u001b[38;5;34m24\u001b[0m, \u001b[38;5;34m128\u001b[0m)             │          \u001b[38;5;34m74,752\u001b[0m │\n",
       "├──────────────────────────────────────┼─────────────────────────────┼─────────────────┤\n",
       "│ batch_normalization                  │ (\u001b[38;5;45mNone\u001b[0m, \u001b[38;5;34m24\u001b[0m, \u001b[38;5;34m128\u001b[0m)             │             \u001b[38;5;34m512\u001b[0m │\n",
       "│ (\u001b[38;5;33mBatchNormalization\u001b[0m)                 │                             │                 │\n",
       "├──────────────────────────────────────┼─────────────────────────────┼─────────────────┤\n",
       "│ dropout (\u001b[38;5;33mDropout\u001b[0m)                    │ (\u001b[38;5;45mNone\u001b[0m, \u001b[38;5;34m24\u001b[0m, \u001b[38;5;34m128\u001b[0m)             │               \u001b[38;5;34m0\u001b[0m │\n",
       "├──────────────────────────────────────┼─────────────────────────────┼─────────────────┤\n",
       "│ lstm_1 (\u001b[38;5;33mLSTM\u001b[0m)                        │ (\u001b[38;5;45mNone\u001b[0m, \u001b[38;5;34m64\u001b[0m)                  │          \u001b[38;5;34m49,408\u001b[0m │\n",
       "├──────────────────────────────────────┼─────────────────────────────┼─────────────────┤\n",
       "│ batch_normalization_1                │ (\u001b[38;5;45mNone\u001b[0m, \u001b[38;5;34m64\u001b[0m)                  │             \u001b[38;5;34m256\u001b[0m │\n",
       "│ (\u001b[38;5;33mBatchNormalization\u001b[0m)                 │                             │                 │\n",
       "├──────────────────────────────────────┼─────────────────────────────┼─────────────────┤\n",
       "│ dropout_1 (\u001b[38;5;33mDropout\u001b[0m)                  │ (\u001b[38;5;45mNone\u001b[0m, \u001b[38;5;34m64\u001b[0m)                  │               \u001b[38;5;34m0\u001b[0m │\n",
       "├──────────────────────────────────────┼─────────────────────────────┼─────────────────┤\n",
       "│ dense (\u001b[38;5;33mDense\u001b[0m)                        │ (\u001b[38;5;45mNone\u001b[0m, \u001b[38;5;34m64\u001b[0m)                  │           \u001b[38;5;34m4,160\u001b[0m │\n",
       "├──────────────────────────────────────┼─────────────────────────────┼─────────────────┤\n",
       "│ batch_normalization_2                │ (\u001b[38;5;45mNone\u001b[0m, \u001b[38;5;34m64\u001b[0m)                  │             \u001b[38;5;34m256\u001b[0m │\n",
       "│ (\u001b[38;5;33mBatchNormalization\u001b[0m)                 │                             │                 │\n",
       "├──────────────────────────────────────┼─────────────────────────────┼─────────────────┤\n",
       "│ dense_1 (\u001b[38;5;33mDense\u001b[0m)                      │ (\u001b[38;5;45mNone\u001b[0m, \u001b[38;5;34m32\u001b[0m)                  │           \u001b[38;5;34m2,080\u001b[0m │\n",
       "├──────────────────────────────────────┼─────────────────────────────┼─────────────────┤\n",
       "│ batch_normalization_3                │ (\u001b[38;5;45mNone\u001b[0m, \u001b[38;5;34m32\u001b[0m)                  │             \u001b[38;5;34m128\u001b[0m │\n",
       "│ (\u001b[38;5;33mBatchNormalization\u001b[0m)                 │                             │                 │\n",
       "├──────────────────────────────────────┼─────────────────────────────┼─────────────────┤\n",
       "│ dense_2 (\u001b[38;5;33mDense\u001b[0m)                      │ (\u001b[38;5;45mNone\u001b[0m, \u001b[38;5;34m24\u001b[0m)                  │             \u001b[38;5;34m792\u001b[0m │\n",
       "└──────────────────────────────────────┴─────────────────────────────┴─────────────────┘\n"
      ]
     },
     "metadata": {},
     "output_type": "display_data"
    },
    {
     "data": {
      "text/html": [
       "<pre style=\"white-space:pre;overflow-x:auto;line-height:normal;font-family:Menlo,'DejaVu Sans Mono',consolas,'Courier New',monospace\"><span style=\"font-weight: bold\"> Total params: </span><span style=\"color: #00af00; text-decoration-color: #00af00\">132,344</span> (516.97 KB)\n",
       "</pre>\n"
      ],
      "text/plain": [
       "\u001b[1m Total params: \u001b[0m\u001b[38;5;34m132,344\u001b[0m (516.97 KB)\n"
      ]
     },
     "metadata": {},
     "output_type": "display_data"
    },
    {
     "data": {
      "text/html": [
       "<pre style=\"white-space:pre;overflow-x:auto;line-height:normal;font-family:Menlo,'DejaVu Sans Mono',consolas,'Courier New',monospace\"><span style=\"font-weight: bold\"> Trainable params: </span><span style=\"color: #00af00; text-decoration-color: #00af00\">131,768</span> (514.72 KB)\n",
       "</pre>\n"
      ],
      "text/plain": [
       "\u001b[1m Trainable params: \u001b[0m\u001b[38;5;34m131,768\u001b[0m (514.72 KB)\n"
      ]
     },
     "metadata": {},
     "output_type": "display_data"
    },
    {
     "data": {
      "text/html": [
       "<pre style=\"white-space:pre;overflow-x:auto;line-height:normal;font-family:Menlo,'DejaVu Sans Mono',consolas,'Courier New',monospace\"><span style=\"font-weight: bold\"> Non-trainable params: </span><span style=\"color: #00af00; text-decoration-color: #00af00\">576</span> (2.25 KB)\n",
       "</pre>\n"
      ],
      "text/plain": [
       "\u001b[1m Non-trainable params: \u001b[0m\u001b[38;5;34m576\u001b[0m (2.25 KB)\n"
      ]
     },
     "metadata": {},
     "output_type": "display_data"
    }
   ],
   "source": [
    "# Initialize model\n",
    "predictor = RainfallPredictor(CONFIG, preprocessor)\n",
    "model = predictor.build_model()\n",
    "model.summary()"
   ]
  },
  {
   "cell_type": "code",
   "execution_count": 9,
   "id": "4d0cc6fb",
   "metadata": {
    "execution": {
     "iopub.execute_input": "2024-12-25T11:24:37.081952Z",
     "iopub.status.busy": "2024-12-25T11:24:37.081669Z",
     "iopub.status.idle": "2024-12-25T11:37:28.088226Z",
     "shell.execute_reply": "2024-12-25T11:37:28.087434Z"
    },
    "papermill": {
     "duration": 771.012944,
     "end_time": "2024-12-25T11:37:28.089781",
     "exception": false,
     "start_time": "2024-12-25T11:24:37.076837",
     "status": "completed"
    },
    "tags": []
   },
   "outputs": [
    {
     "name": "stdout",
     "output_type": "stream",
     "text": [
      "Epoch 1/20\n",
      "\u001b[1m7586/7586\u001b[0m \u001b[32m━━━━━━━━━━━━━━━━━━━━\u001b[0m\u001b[37m\u001b[0m \u001b[1m82s\u001b[0m 10ms/step - loss: 0.1273 - mae: 0.1255 - val_loss: 0.1361 - val_mae: 0.1360 - learning_rate: 0.0010\n",
      "Epoch 2/20\n",
      "\u001b[1m7586/7586\u001b[0m \u001b[32m━━━━━━━━━━━━━━━━━━━━\u001b[0m\u001b[37m\u001b[0m \u001b[1m73s\u001b[0m 10ms/step - loss: 0.1099 - mae: 0.1163 - val_loss: 0.1334 - val_mae: 0.1457 - learning_rate: 0.0010\n",
      "Epoch 3/20\n",
      "\u001b[1m7586/7586\u001b[0m \u001b[32m━━━━━━━━━━━━━━━━━━━━\u001b[0m\u001b[37m\u001b[0m \u001b[1m76s\u001b[0m 10ms/step - loss: 0.1064 - mae: 0.1156 - val_loss: 0.1381 - val_mae: 0.1266 - learning_rate: 0.0010\n",
      "Epoch 4/20\n",
      "\u001b[1m7586/7586\u001b[0m \u001b[32m━━━━━━━━━━━━━━━━━━━━\u001b[0m\u001b[37m\u001b[0m \u001b[1m77s\u001b[0m 10ms/step - loss: 0.1048 - mae: 0.1145 - val_loss: 0.1368 - val_mae: 0.1267 - learning_rate: 0.0010\n",
      "Epoch 5/20\n",
      "\u001b[1m7586/7586\u001b[0m \u001b[32m━━━━━━━━━━━━━━━━━━━━\u001b[0m\u001b[37m\u001b[0m \u001b[1m76s\u001b[0m 10ms/step - loss: 0.1019 - mae: 0.1117 - val_loss: 0.1320 - val_mae: 0.1298 - learning_rate: 0.0010\n",
      "Epoch 6/20\n",
      "\u001b[1m7586/7586\u001b[0m \u001b[32m━━━━━━━━━━━━━━━━━━━━\u001b[0m\u001b[37m\u001b[0m \u001b[1m77s\u001b[0m 10ms/step - loss: 0.0987 - mae: 0.1096 - val_loss: 0.1345 - val_mae: 0.1274 - learning_rate: 0.0010\n",
      "Epoch 7/20\n",
      "\u001b[1m7586/7586\u001b[0m \u001b[32m━━━━━━━━━━━━━━━━━━━━\u001b[0m\u001b[37m\u001b[0m \u001b[1m77s\u001b[0m 10ms/step - loss: 0.0977 - mae: 0.1085 - val_loss: 0.1345 - val_mae: 0.1355 - learning_rate: 0.0010\n",
      "Epoch 8/20\n",
      "\u001b[1m7586/7586\u001b[0m \u001b[32m━━━━━━━━━━━━━━━━━━━━\u001b[0m\u001b[37m\u001b[0m \u001b[1m78s\u001b[0m 10ms/step - loss: 0.0948 - mae: 0.1061 - val_loss: 0.1346 - val_mae: 0.1354 - learning_rate: 0.0010\n",
      "Epoch 9/20\n",
      "\u001b[1m7586/7586\u001b[0m \u001b[32m━━━━━━━━━━━━━━━━━━━━\u001b[0m\u001b[37m\u001b[0m \u001b[1m77s\u001b[0m 10ms/step - loss: 0.0924 - mae: 0.1047 - val_loss: 0.1362 - val_mae: 0.1279 - learning_rate: 5.0000e-04\n",
      "Epoch 10/20\n",
      "\u001b[1m7586/7586\u001b[0m \u001b[32m━━━━━━━━━━━━━━━━━━━━\u001b[0m\u001b[37m\u001b[0m \u001b[1m77s\u001b[0m 10ms/step - loss: 0.0894 - mae: 0.1031 - val_loss: 0.1366 - val_mae: 0.1253 - learning_rate: 5.0000e-04\n"
     ]
    }
   ],
   "source": [
    "history = predictor.train(X_train, y_train, patience = 5)"
   ]
  },
  {
   "cell_type": "code",
   "execution_count": 10,
   "id": "d36c3bf8",
   "metadata": {
    "execution": {
     "iopub.execute_input": "2024-12-25T11:37:29.412155Z",
     "iopub.status.busy": "2024-12-25T11:37:29.411791Z",
     "iopub.status.idle": "2024-12-25T11:37:30.698385Z",
     "shell.execute_reply": "2024-12-25T11:37:30.697538Z"
    },
    "papermill": {
     "duration": 1.974738,
     "end_time": "2024-12-25T11:37:30.699735",
     "exception": false,
     "start_time": "2024-12-25T11:37:28.724997",
     "status": "completed"
    },
    "tags": []
   },
   "outputs": [
    {
     "data": {
      "text/plain": [
       "['preprocessor.joblib']"
      ]
     },
     "execution_count": 10,
     "metadata": {},
     "output_type": "execute_result"
    }
   ],
   "source": [
    "import joblib\n",
    "# After training\n",
    "model.save('rainfall_model.keras')\n",
    "tf.saved_model.save(model, 'model')\n",
    "joblib.dump(preprocessor, 'preprocessor.joblib')"
   ]
  },
  {
   "cell_type": "code",
   "execution_count": 11,
   "id": "b2739c3f",
   "metadata": {
    "execution": {
     "iopub.execute_input": "2024-12-25T11:37:32.006954Z",
     "iopub.status.busy": "2024-12-25T11:37:32.006608Z",
     "iopub.status.idle": "2024-12-25T11:37:32.494865Z",
     "shell.execute_reply": "2024-12-25T11:37:32.494004Z"
    },
    "papermill": {
     "duration": 1.171834,
     "end_time": "2024-12-25T11:37:32.496346",
     "exception": false,
     "start_time": "2024-12-25T11:37:31.324512",
     "status": "completed"
    },
    "tags": []
   },
   "outputs": [
    {
     "data": {
      "image/png": "[encoded data removed]",
      "text/plain": [
       "<Figure size 1200x400 with 2 Axes>"
      ]
     },
     "metadata": {},
     "output_type": "display_data"
    }
   ],
   "source": [
    "# Plot training history\n",
    "predictor.plot_history(history)"
   ]
  },
  {
   "cell_type": "code",
   "execution_count": 12,
   "id": "e5d81a2f",
   "metadata": {
    "execution": {
     "iopub.execute_input": "2024-12-25T11:37:33.805803Z",
     "iopub.status.busy": "2024-12-25T11:37:33.805487Z",
     "iopub.status.idle": "2024-12-25T11:37:36.955306Z",
     "shell.execute_reply": "2024-12-25T11:37:36.954418Z"
    },
    "papermill": {
     "duration": 3.828405,
     "end_time": "2024-12-25T11:37:36.956756",
     "exception": false,
     "start_time": "2024-12-25T11:37:33.128351",
     "status": "completed"
    },
    "tags": []
   },
   "outputs": [
    {
     "name": "stdout",
     "output_type": "stream",
     "text": [
      "\u001b[1m937/937\u001b[0m \u001b[32m━━━━━━━━━━━━━━━━━━━━\u001b[0m\u001b[37m\u001b[0m \u001b[1m2s\u001b[0m 2ms/step\n",
      "Model Metrics:\n",
      "MSE: 10.4841\n",
      "RMSE: 3.2379\n",
      "MAE: 0.6639\n",
      "R2: 0.0623\n"
     ]
    }
   ],
   "source": [
    "# Evaluate model\n",
    "metrics, predictions, actual = predictor.evaluate(X_test, y_test)\n",
    "print(\"Model Metrics:\")\n",
    "for metric, value in metrics.items():\n",
    "    print(f\"{metric.upper()}: {value:.4f}\")"
   ]
  },
  {
   "cell_type": "code",
   "execution_count": 13,
   "id": "0c91a72c",
   "metadata": {
    "execution": {
     "iopub.execute_input": "2024-12-25T11:37:38.297601Z",
     "iopub.status.busy": "2024-12-25T11:37:38.297248Z",
     "iopub.status.idle": "2024-12-25T11:37:39.148619Z",
     "shell.execute_reply": "2024-12-25T11:37:39.147671Z"
    },
    "papermill": {
     "duration": 1.529352,
     "end_time": "2024-12-25T11:37:39.150000",
     "exception": false,
     "start_time": "2024-12-25T11:37:37.620648",
     "status": "completed"
    },
    "tags": []
   },
   "outputs": [
    {
     "data": {
      "image/png": "[encoded data removed]",
      "text/plain": [
       "<Figure size 1500x600 with 5 Axes>"
      ]
     },
     "metadata": {},
     "output_type": "display_data"
    }
   ],
   "source": [
    "# Plot sample predictions\n",
    "predictor.plot_predictions(predictions, actual, num_samples=5)"
   ]
  }
 ],
 "metadata": {
  "kaggle": {
   "accelerator": "gpu",
   "dataSources": [
    {
     "datasetId": 6371548,
     "sourceId": 10294739,
     "sourceType": "datasetVersion"
    }
   ],
   "isGpuEnabled": true,
   "isInternetEnabled": false,
   "language": "python",
   "sourceType": "notebook"
  },
  "kernelspec": {
   "display_name": "Python 3",
   "language": "python",
   "name": "python3"
  },
  "language_info": {
   "codemirror_mode": {
    "name": "ipython",
    "version": 3
   },
   "file_extension": ".py",
   "mimetype": "text/x-python",
   "name": "python",
   "nbconvert_exporter": "python",
   "pygments_lexer": "ipython3",
   "version": "3.10.12"
  },
  "papermill": {
   "default_parameters": {},
   "duration": 863.937229,
   "end_time": "2024-12-25T11:37:41.771156",
   "environment_variables": {},
   "exception": null,
   "input_path": "__notebook__.ipynb",
   "output_path": "__notebook__.ipynb",
   "parameters": {},
   "start_time": "2024-12-25T11:23:17.833927",
   "version": "2.6.0"
  }
 },
 "nbformat": 4,
 "nbformat_minor": 5
}
